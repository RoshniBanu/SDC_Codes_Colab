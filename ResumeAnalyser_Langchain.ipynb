{
  "nbformat": 4,
  "nbformat_minor": 0,
  "metadata": {
    "colab": {
      "provenance": []
    },
    "kernelspec": {
      "name": "python3",
      "display_name": "Python 3"
    },
    "language_info": {
      "name": "python"
    }
  },
  "cells": [
    {
      "cell_type": "markdown",
      "source": [
        "RESUME ANALYSER WITH AI"
      ],
      "metadata": {
        "id": "JYUTJklSbMqC"
      }
    },
    {
      "cell_type": "code",
      "execution_count": 1,
      "metadata": {
        "colab": {
          "base_uri": "https://localhost:8080/"
        },
        "id": "chgE3Hz8bLky",
        "outputId": "d656b404-3b04-46f5-97e5-5284f95427f9"
      },
      "outputs": [
        {
          "output_type": "stream",
          "name": "stdout",
          "text": [
            "📄 AI Resume Analyzer\n",
            "Paste your resume content below or type 'exit' to quit.\n",
            "\n",
            "Paste your resume:\n",
            "CONTACT  SOFT SKILLS  LANGUAGES  PROFILE  +91 7604985870  Phone:  rigana0206@gmail.com  Email Address:  3/18-A , Melavaladi  Tiruchirappalli-621218  Address:  TECH SKILLS  Teamwork & collaboration  Time Management  Leadership  Effective Communication  Critical Thinking  English (Fluent)  Hindi (Fluent)  ROSHNI BANU.S  COMPUTER SCIENCE STUDENT  EDUCATION  Myself an enthusiastic and self-motivated CSE student with a strong  foundation in programming & learning web development . Proficient in  Python, HTML,CSS,JS with hands-on experience in developing real  world projects like “QR code generator , speech to text ,text to speech”  and few . A proactive learner and team player,continuously improving  my coding skills by practicing in Hackerrank.Seeking an internship  opportunity to apply my technical knowledge & contribute to innovate  solutions in a dynamic environment.  2023 - 2027 B.E. in Computer Science (studying)  College Of Engineering Guindy , Anna University  2022 - 2023 Schooling  Sowdambikaa Group of Schools  12th score: 597/600  with Perfect Scores in 4 subjects Maths,  Physics, Chemistry and Computer Science  CGPA: 8.68/10 (Current cgpa)  C++  (Expert)  Java (Intermediate)  Python (Intermediate)  Data Structures  Algorithms  SQL, MySQL  HTML CSS Javascript  Nodejs Express  Digital Systems  PROJECTS  Speech-to-Text & Text-to-Speech converter  Built a browser based voice assistant that converts speech to text and vice  versa.Utilized Web Speech API for accurate speech recognition and  speech to text converter with an user friendly UI for seemless interaction  QR Code generator  CURRENTLY DEVELOPING SKILLS  Technologies Used:  Developed a Python based QR code generator using built in modules  for simplicity ,efficiency and allowing users to generate and save QR  codesTechnologies Used: Python , built-in modules of Python  HTML,CSS,JavaScript,Web Speech API  CGPA Calculator  Developed a Java based cgpa calculator.Implemented OOP principles  to calculate CGPA dynamically with user inputs,handled errors  Technologies Used: Java,OOP concepts  Attendance tracker & Assignment reminder  Created a web based application for students .Used local storage to save  user inputs and data persistence.Designed a responsive UI to help students  maintain their attendance percentage as well as assignment deadlines  efficiently.Technologies Used: HTML, CSS, JavaScript  Practicing Hackerrank problems , attending GEN AI seminars ,attended  Power BI workshops\n",
            "\n",
            "✅ Summary:\n",
            "🔹 Skills Found: java, html, python, c++, node, css, git, communication, javascript, sql, teamwork\n",
            "🎓 Education Mentions: college, cgpa, gpa, university\n",
            "💼 Experience Highlights:\n",
            "  - proficient in  python, html,css,js with hands-on experience in developing real  world projects like “qr code generator , speech to text ,text to speech”  and few .\n",
            "  - a proactive learner and team player,continuously improving  my coding skills by practicing in hackerrank.seeking an internship  opportunity to apply my technical knowledge & contribute to innovate  solutions in a dynamic environment.\n",
            "  - 2023 - 2027 b.e. in computer science (studying)  college of engineering guindy , anna university  2022 - 2023 schooling  sowdambikaa group of schools  12th score: 597/600  with perfect scores in 4 subjects maths,  physics, chemistry and computer science  cgpa: 8.68/10 (current cgpa)  c++  (expert)  java (intermediate)  python (intermediate)  data structures  algorithms  sql, mysql  html css javascript  nodejs express  digital systems  projects  speech-to-text & text-to-speech converter  built a browser based voice assistant that converts speech to text and vice  versa.utilized web speech api for accurate speech recognition and  speech to text converter with an user friendly ui for seemless interaction  qr code generator  currently developing skills  technologies used:  developed a python based qr code generator using built in modules  for simplicity ,efficiency and allowing users to generate and save qr  codestechnologies used: python , built-in modules of python  html,css,javascript,web speech api  cgpa calculator  developed a java based cgpa calculator.implemented oop principles  to calculate cgpa dynamically with user inputs,handled errors  technologies used: java,oop concepts  attendance tracker & assignment reminder  created a web based application for students .used local storage to save  user inputs and data persistence.designed a responsive ui to help students  maintain their attendance percentage as well as assignment deadlines  efficiently.technologies used: html, css, javascript  practicing hackerrank problems , attending gen ai seminars ,attended  power bi workshops\n",
            "\n",
            "==================================================\n",
            "\n",
            "Paste your resume:\n",
            "exit\n",
            "👋 Exiting resume analyzer.\n"
          ]
        }
      ],
      "source": [
        "# resume_analyzer.py\n",
        "\n",
        "# ✅ Step 1: Install required packages (auto)\n",
        "import sys\n",
        "import subprocess\n",
        "\n",
        "try:\n",
        "    import spacy\n",
        "except ImportError:\n",
        "    subprocess.check_call([sys.executable, \"-m\", \"pip\", \"install\", \"spacy\"])\n",
        "    import spacy\n",
        "\n",
        "try:\n",
        "    nlp = spacy.load(\"en_core_web_sm\")\n",
        "except:\n",
        "    subprocess.check_call([sys.executable, \"-m\", \"spacy\", \"download\", \"en_core_web_sm\"])\n",
        "    nlp = spacy.load(\"en_core_web_sm\")\n",
        "\n",
        "# ✅ Step 2: Predefined keyword categories\n",
        "SKILL_KEYWORDS = [\n",
        "    \"python\", \"java\", \"c++\", \"javascript\", \"sql\", \"excel\", \"html\", \"css\", \"powerpoint\",\n",
        "    \"machine learning\", \"data science\", \"react\", \"node\", \"git\", \"linux\", \"communication\",\n",
        "    \"teamwork\", \"problem solving\"\n",
        "]\n",
        "\n",
        "EDUCATION_KEYWORDS = [\n",
        "    \"bachelor\", \"master\", \"phd\", \"b.tech\", \"m.tech\", \"degree\", \"university\", \"college\", \"diploma\",\n",
        "    \"high school\", \"gpa\", \"cgpa\"\n",
        "]\n",
        "\n",
        "EXPERIENCE_KEYWORDS = [\n",
        "    \"intern\", \"internship\", \"project\", \"experience\", \"developed\", \"managed\", \"led\", \"designed\",\n",
        "    \"built\", \"implemented\", \"responsible for\"\n",
        "]\n",
        "\n",
        "# ✅ Step 3: Analysis function\n",
        "def analyze_resume(text):\n",
        "    doc = nlp(text.lower())\n",
        "\n",
        "    found_skills = [kw for kw in SKILL_KEYWORDS if kw in text.lower()]\n",
        "    found_education = [kw for kw in EDUCATION_KEYWORDS if kw in text.lower()]\n",
        "    found_experience = [sent.text.strip() for sent in doc.sents if any(kw in sent.text.lower() for kw in EXPERIENCE_KEYWORDS)]\n",
        "\n",
        "    return {\n",
        "        \"skills\": list(set(found_skills)),\n",
        "        \"education\": list(set(found_education)),\n",
        "        \"experience_summary\": found_experience[:5]  # First 5 matching sentences\n",
        "    }\n",
        "\n",
        "# ✅ Step 4: Main loop\n",
        "def main():\n",
        "    print(\"📄 AI Resume Analyzer\")\n",
        "    print(\"Paste your resume content below or type 'exit' to quit.\\n\")\n",
        "\n",
        "    while True:\n",
        "        try:\n",
        "            resume_text = input(\"Paste your resume:\\n\")\n",
        "            if resume_text.lower() in [\"exit\", \"quit\"]:\n",
        "                print(\"👋 Exiting resume analyzer.\")\n",
        "                break\n",
        "\n",
        "            result = analyze_resume(resume_text)\n",
        "\n",
        "            print(\"\\n✅ Summary:\")\n",
        "            print(\"🔹 Skills Found:\", \", \".join(result[\"skills\"]) or \"None\")\n",
        "            print(\"🎓 Education Mentions:\", \", \".join(result[\"education\"]) or \"None\")\n",
        "            print(\"💼 Experience Highlights:\")\n",
        "            for exp in result[\"experience_summary\"]:\n",
        "                print(\"  -\", exp)\n",
        "            print(\"\\n\" + \"=\"*50 + \"\\n\")\n",
        "\n",
        "        except KeyboardInterrupt:\n",
        "            print(\"\\n👋 Exiting resume analyzer.\")\n",
        "            break\n",
        "\n",
        "if __name__ == \"__main__\":\n",
        "    main()\n"
      ]
    }
  ]
}