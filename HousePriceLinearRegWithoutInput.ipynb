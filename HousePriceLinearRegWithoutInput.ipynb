{
  "nbformat": 4,
  "nbformat_minor": 0,
  "metadata": {
    "colab": {
      "provenance": []
    },
    "kernelspec": {
      "name": "python3",
      "display_name": "Python 3"
    },
    "language_info": {
      "name": "python"
    }
  },
  "cells": [
    {
      "cell_type": "code",
      "execution_count": null,
      "metadata": {
        "colab": {
          "base_uri": "https://localhost:8080/"
        },
        "id": "94RJofX30aPM",
        "outputId": "58aeb4b1-413d-460e-beb9-f14983da7cde"
      },
      "outputs": [
        {
          "output_type": "stream",
          "name": "stdout",
          "text": [
            "Requirement already satisfied: numpy in /usr/local/lib/python3.11/dist-packages (2.0.2)\n",
            "Requirement already satisfied: pandas in /usr/local/lib/python3.11/dist-packages (2.2.2)\n",
            "Requirement already satisfied: scikit-learn in /usr/local/lib/python3.11/dist-packages (1.6.1)\n",
            "Requirement already satisfied: matplotlib in /usr/local/lib/python3.11/dist-packages (3.10.0)\n",
            "Requirement already satisfied: python-dateutil>=2.8.2 in /usr/local/lib/python3.11/dist-packages (from pandas) (2.8.2)\n",
            "Requirement already satisfied: pytz>=2020.1 in /usr/local/lib/python3.11/dist-packages (from pandas) (2025.2)\n",
            "Requirement already satisfied: tzdata>=2022.7 in /usr/local/lib/python3.11/dist-packages (from pandas) (2025.2)\n",
            "Requirement already satisfied: scipy>=1.6.0 in /usr/local/lib/python3.11/dist-packages (from scikit-learn) (1.14.1)\n",
            "Requirement already satisfied: joblib>=1.2.0 in /usr/local/lib/python3.11/dist-packages (from scikit-learn) (1.4.2)\n",
            "Requirement already satisfied: threadpoolctl>=3.1.0 in /usr/local/lib/python3.11/dist-packages (from scikit-learn) (3.6.0)\n",
            "Requirement already satisfied: contourpy>=1.0.1 in /usr/local/lib/python3.11/dist-packages (from matplotlib) (1.3.1)\n",
            "Requirement already satisfied: cycler>=0.10 in /usr/local/lib/python3.11/dist-packages (from matplotlib) (0.12.1)\n",
            "Requirement already satisfied: fonttools>=4.22.0 in /usr/local/lib/python3.11/dist-packages (from matplotlib) (4.57.0)\n",
            "Requirement already satisfied: kiwisolver>=1.3.1 in /usr/local/lib/python3.11/dist-packages (from matplotlib) (1.4.8)\n",
            "Requirement already satisfied: packaging>=20.0 in /usr/local/lib/python3.11/dist-packages (from matplotlib) (24.2)\n",
            "Requirement already satisfied: pillow>=8 in /usr/local/lib/python3.11/dist-packages (from matplotlib) (11.1.0)\n",
            "Requirement already satisfied: pyparsing>=2.3.1 in /usr/local/lib/python3.11/dist-packages (from matplotlib) (3.2.3)\n",
            "Requirement already satisfied: six>=1.5 in /usr/local/lib/python3.11/dist-packages (from python-dateutil>=2.8.2->pandas) (1.17.0)\n",
            "Dataset:\n",
            "    Size   Price\n",
            "0  1500  245000\n",
            "1  1800  312000\n",
            "2  2400  369000\n",
            "3  3000  450000\n",
            "4  3500  525000\n",
            "5  4000  560000\n",
            "6  4500  610000\n",
            "7  5000  650000\n",
            "8  5500  720000\n",
            "9  6000  800000\n",
            "\n",
            "Model Coefficient (Slope): [118.1985263]\n",
            "Model Intercept: 84358.00796137896\n",
            "\n",
            "Mean Squared Error: 215176166.53372794\n",
            "R-squared: 0.9948294846565329\n",
            "\n",
            "Actual vs Predicted Prices:\n",
            "Actual Price: $720,000.00 | Predicted Price: $734,449.90\n",
            "Actual Price: $312,000.00 | Predicted Price: $297,115.36\n"
          ]
        }
      ],
      "source": [
        "!pip install numpy pandas scikit-learn matplotlib\n",
        "# Import necessary libraries\n",
        "import numpy as np\n",
        "import pandas as pd\n",
        "from sklearn.model_selection import train_test_split\n",
        "from sklearn.linear_model import LinearRegression\n",
        "from sklearn.metrics import mean_squared_error, r2_score\n",
        "\n",
        "# Create a simple dataset with house sizes (in sqft) and prices (in $1000s)\n",
        "data = {\n",
        "    'Size': [1500, 1800, 2400, 3000, 3500, 4000, 4500, 5000, 5500, 6000],\n",
        "    'Price': [245000, 312000, 369000, 450000, 525000, 560000, 610000, 650000, 720000, 800000]\n",
        "}\n",
        "\n",
        "# Create a DataFrame from the data\n",
        "df = pd.DataFrame(data)\n",
        "\n",
        "# Display the DataFrame\n",
        "print(\"Dataset:\\n\", df)\n",
        "\n",
        "# Separate features (X) and target variable (y)\n",
        "X = df[['Size']]  # Feature: Size of the house\n",
        "y = df['Price']   # Target: House price\n",
        "\n",
        "# Split the data into training and testing sets (80% training, 20% testing)\n",
        "X_train, X_test, y_train, y_test = train_test_split(X, y, test_size=0.2, random_state=42)\n",
        "\n",
        "# Initialize the Linear Regression model\n",
        "model = LinearRegression()\n",
        "\n",
        "# Train the model on the training data\n",
        "model.fit(X_train, y_train)\n",
        "\n",
        "# Predict house prices on the test data\n",
        "y_pred = model.predict(X_test)\n",
        "\n",
        "# Print the coefficients of the model\n",
        "print(\"\\nModel Coefficient (Slope):\", model.coef_)\n",
        "print(\"Model Intercept:\", model.intercept_)\n",
        "\n",
        "# Calculate Mean Squared Error and R-squared\n",
        "mse = mean_squared_error(y_test, y_pred)\n",
        "r2 = r2_score(y_test, y_pred)\n",
        "\n",
        "# Print the evaluation metrics\n",
        "print(f\"\\nMean Squared Error: {mse}\")\n",
        "print(f\"R-squared: {r2}\")\n",
        "\n",
        "# Show the predictions vs actual values\n",
        "print(\"\\nActual vs Predicted Prices:\")\n",
        "for actual, predicted in zip(y_test, y_pred):\n",
        "    print(f\"Actual Price: ${actual:,.2f} | Predicted Price: ${predicted:,.2f}\")\n",
        "\n"
      ]
    }
  ]
}