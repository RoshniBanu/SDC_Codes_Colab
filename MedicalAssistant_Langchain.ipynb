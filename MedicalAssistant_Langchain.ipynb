{
  "nbformat": 4,
  "nbformat_minor": 0,
  "metadata": {
    "colab": {
      "provenance": []
    },
    "kernelspec": {
      "name": "python3",
      "display_name": "Python 3"
    },
    "language_info": {
      "name": "python"
    }
  },
  "cells": [
    {
      "cell_type": "markdown",
      "source": [
        "AI BASED MEDICAL DIAGNOSIS ASSISTANT"
      ],
      "metadata": {
        "id": "QUfP2Ck3cQeg"
      }
    },
    {
      "cell_type": "code",
      "execution_count": 2,
      "metadata": {
        "colab": {
          "base_uri": "https://localhost:8080/"
        },
        "id": "zMoSKZawcP6C",
        "outputId": "e17d47dd-c747-4ce4-945a-f47fbf6ed7ff"
      },
      "outputs": [
        {
          "output_type": "stream",
          "name": "stdout",
          "text": [
            "🏥 AI Medical Diagnosis Assistant\n",
            "Type 'exit' to quit.\n",
            "\n"
          ]
        },
        {
          "output_type": "stream",
          "name": "stderr",
          "text": [
            "Some weights of the model checkpoint at ktrapeznikov/biobert_v1.1_pubmed_squad_v2 were not used when initializing BertForQuestionAnswering: ['bert.pooler.dense.bias', 'bert.pooler.dense.weight']\n",
            "- This IS expected if you are initializing BertForQuestionAnswering from the checkpoint of a model trained on another task or with another architecture (e.g. initializing a BertForSequenceClassification model from a BertForPreTraining model).\n",
            "- This IS NOT expected if you are initializing BertForQuestionAnswering from the checkpoint of a model that you expect to be exactly identical (initializing a BertForSequenceClassification model from a BertForSequenceClassification model).\n",
            "Device set to use cpu\n"
          ]
        },
        {
          "output_type": "stream",
          "name": "stdout",
          "text": [
            "✅ Assistant ready! Describe your symptoms below.\n",
            "\n",
            "🩺 Symptoms: runny nose , cough\n",
            "🔍 Possible Cause: Fever\n",
            "--------------------------------------------------\n",
            "🩺 Symptoms: exit\n",
            "👋 Stay safe! Exiting assistant.\n"
          ]
        }
      ],
      "source": [
        "# medical_diagnosis_assistant.py\n",
        "\n",
        "from transformers import pipeline\n",
        "\n",
        "# ✅ Load diagnosis model (once)\n",
        "def load_diagnosis_model():\n",
        "    model_name = \"ktrapeznikov/biobert_v1.1_pubmed_squad_v2\"\n",
        "    return pipeline(\"question-answering\", model=model_name, tokenizer=model_name)\n",
        "\n",
        "# ✅ Define diagnosis logic\n",
        "def diagnose(symptoms, model):\n",
        "    context = (\n",
        "        \"Fever, cough, headache, sore throat, fatigue, runny nose, muscle pain, nausea, \"\n",
        "        \"vomiting, diarrhea, abdominal pain, dizziness, chills, shortness of breath, chest pain, \"\n",
        "        \"rash, joint pain, blurred vision, swollen glands, earache, insomnia, weight loss, anxiety, \"\n",
        "        \"hypertension, diabetes, flu, cold, covid, typhoid, dengue.\"\n",
        "    )\n",
        "    question = f\"What condition could cause {symptoms}?\"\n",
        "\n",
        "    try:\n",
        "        result = model(question=question, context=context)\n",
        "        return result[\"answer\"]\n",
        "    except Exception as e:\n",
        "        return f\"❌ Error: {e}\"\n",
        "\n",
        "# ✅ Command-line interface\n",
        "def main():\n",
        "    print(\"🏥 AI Medical Diagnosis Assistant\")\n",
        "    print(\"Type 'exit' to quit.\\n\")\n",
        "\n",
        "    model = load_diagnosis_model()\n",
        "    print(\"✅ Assistant ready! Describe your symptoms below.\\n\")\n",
        "\n",
        "    while True:\n",
        "        symptoms = input(\"🩺 Symptoms: \").strip()\n",
        "        if symptoms.lower() in [\"exit\", \"quit\"]:\n",
        "            print(\"👋 Stay safe! Exiting assistant.\")\n",
        "            break\n",
        "\n",
        "        response = diagnose(symptoms, model)\n",
        "        print(\"🔍 Possible Cause:\", response)\n",
        "        print(\"-\" * 50)\n",
        "\n",
        "if __name__ == \"__main__\":\n",
        "    main()\n"
      ]
    }
  ]
}