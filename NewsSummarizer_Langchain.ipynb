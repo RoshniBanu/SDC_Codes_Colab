{
  "nbformat": 4,
  "nbformat_minor": 0,
  "metadata": {
    "colab": {
      "provenance": []
    },
    "kernelspec": {
      "name": "python3",
      "display_name": "Python 3"
    },
    "language_info": {
      "name": "python"
    }
  },
  "cells": [
    {
      "cell_type": "markdown",
      "source": [
        "AI NEWS SUMMARIZER"
      ],
      "metadata": {
        "id": "VcowTlVvXJja"
      }
    },
    {
      "cell_type": "code",
      "execution_count": 2,
      "metadata": {
        "colab": {
          "base_uri": "https://localhost:8080/"
        },
        "id": "9P9gQ3ERXC2t",
        "outputId": "8d01ce8e-9238-4567-ec83-0d3a00a9ef44"
      },
      "outputs": [
        {
          "output_type": "stream",
          "name": "stdout",
          "text": [
            "🔄 Loading summarization model... Please wait.\n"
          ]
        },
        {
          "output_type": "stream",
          "name": "stderr",
          "text": [
            "Device set to use cpu\n"
          ]
        },
        {
          "output_type": "stream",
          "name": "stdout",
          "text": [
            "📰 News Summarizer is ready! Type 'exit' to quit.\n",
            "\n",
            "Paste your article:\n",
            "The Clockmaker’s Paradox  In a quiet corner of an old European village, tucked between cobbled alleys and ivy-laced walls, lived a clockmaker named Elian. He was not just any craftsman, but a master of time. His hands, gnarled with age and precision, had built more clocks than he could count — each one a symphony of gears, springs, and patience.  Elian didn’t just build clocks; he breathed life into them. Locals believed his clocks never skipped a beat, and neither did the hearts of those who owned them. For generations, people came not only to fix their timepieces but also to seek his quiet wisdom. He listened more than he spoke — for who knows time better than the one who crafts it?  But there was something strange about Elian: he wore no watch and kept no clock in his own house. His workshop, though filled with ticking echoes, had no single piece set to the right hour. Some ran fast, some ran slow. When asked why, he simply smiled and said, “I give time to others. I don’t take it for myself.”  As the years went on, Elian grew slower. Not in mind, but in movement. He took more time winding springs, more pauses between hammer strikes. The villagers worried. “Will there be anyone left who understands time like Elian?” they wondered.  Then, one evening, he closed his shop early — something he hadn’t done in 40 years.  He sat on the bench outside, watching the sun dip beneath the horizon, the sky bleeding orange into dusk. A young boy approached, holding a broken pocket watch. “It stopped ticking,” he said.  Elian turned the watch over in his hand, feeling the stillness. “Even time needs rest,” he whispered.  “But can you fix it?”  He smiled. “Time doesn’t always need fixing. Sometimes it needs forgiving.”  The boy looked confused, but nodded — sensing, perhaps, that clocks were more than machines.  The next morning, the shop did not open. The bells did not chime. Elian was gone.  Inside, a single clock remained, perfectly still. Its hands pointed to 6:47 — no one knew why. But in that silence, the town found a lesson: time isn’t just what passes. It’s what’s shared, what’s noticed, what’s remembered.  And somewhere, in the slow turning of unseen gears, the village still felt the heartbeat of the clockmaker who gave time — but never took it.\n",
            "\n",
            "📌 Summary:\n",
            " A clockmaker named Elian lived in an old European village. He wore no watch and kept no clock in his own house. When asked why, he simply smiled and said, “I give time to others. I don’t take it for myself” As the years went on, Elian grew slower. He took more time winding springs, more pauses between hammer strikes. Then, one evening, he closed his shop early — something he hadn't done in 40 years.\n",
            "\n",
            "==================================================\n",
            "\n",
            "Paste your article:\n",
            "exit\n",
            "👋 Exiting summarizer.\n"
          ]
        }
      ],
      "source": [
        "# news_summarizer.py\n",
        "\n",
        "# ✅ Step 1: Import libraries\n",
        "import sys\n",
        "import subprocess\n",
        "\n",
        "# Install transformers if not already installed\n",
        "try:\n",
        "    from transformers import pipeline\n",
        "except ImportError:\n",
        "    subprocess.check_call([sys.executable, \"-m\", \"pip\", \"install\", \"transformers\"])\n",
        "    from transformers import pipeline\n",
        "\n",
        "# ✅ Step 2: Load the summarization pipeline\n",
        "print(\"🔄 Loading summarization model... Please wait.\")\n",
        "summarizer = pipeline(\"summarization\", model=\"facebook/bart-large-cnn\")\n",
        "\n",
        "# ✅ Step 3: Define summarization function\n",
        "def summarize_article(text):\n",
        "    if len(text.strip()) == 0:\n",
        "        return \"⚠️ No article text provided!\"\n",
        "    try:\n",
        "        summary = summarizer(text, max_length=130, min_length=30, do_sample=False)\n",
        "        return summary[0]['summary_text']\n",
        "    except Exception as e:\n",
        "        return f\"❌ Error during summarization: {e}\"\n",
        "\n",
        "# ✅ Step 4: Start interaction\n",
        "def main():\n",
        "    print(\"📰 News Summarizer is ready! Type 'exit' to quit.\\n\")\n",
        "\n",
        "    while True:\n",
        "        try:\n",
        "            article = input(\"Paste your article:\\n\")\n",
        "            if article.lower() in ['exit', 'quit']:\n",
        "                print(\"👋 Exiting summarizer.\")\n",
        "                break\n",
        "\n",
        "            result = summarize_article(article)\n",
        "            print(\"\\n📌 Summary:\\n\", result)\n",
        "            print(\"\\n\" + \"=\" * 50 + \"\\n\")\n",
        "\n",
        "        except KeyboardInterrupt:\n",
        "            print(\"\\n👋 Exiting summarizer.\")\n",
        "            break\n",
        "\n",
        "if __name__ == \"__main__\":\n",
        "    main()\n"
      ]
    }
  ]
}