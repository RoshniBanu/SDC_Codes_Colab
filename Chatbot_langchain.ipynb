{
  "nbformat": 4,
  "nbformat_minor": 0,
  "metadata": {
    "colab": {
      "provenance": []
    },
    "kernelspec": {
      "name": "python3",
      "display_name": "Python 3"
    },
    "language_info": {
      "name": "python"
    }
  },
  "cells": [
    {
      "cell_type": "markdown",
      "source": [
        "AI POWERED CHATBOT"
      ],
      "metadata": {
        "id": "48_TtdcnUVa8"
      }
    },
    {
      "cell_type": "code",
      "source": [
        "# chatbot.py\n",
        "\n",
        "# ✅ Step 1: Import libraries\n",
        "import sys\n",
        "import subprocess\n",
        "\n",
        "# Install transformers if not already installed\n",
        "try:\n",
        "    from transformers import AutoModelForCausalLM, AutoTokenizer\n",
        "except ImportError:\n",
        "    subprocess.check_call([sys.executable, \"-m\", \"pip\", \"install\", \"transformers\"])\n",
        "    from transformers import AutoModelForCausalLM, AutoTokenizer\n",
        "\n",
        "import torch\n",
        "\n",
        "# ✅ Step 2: Load a pre-trained conversational model (DialoGPT-medium)\n",
        "model_name = \"microsoft/DialoGPT-medium\"\n",
        "print(\"🔄 Loading model... Please wait.\")\n",
        "tokenizer = AutoTokenizer.from_pretrained(model_name)\n",
        "model = AutoModelForCausalLM.from_pretrained(model_name)\n",
        "\n",
        "# ✅ Step 3: Start chatting\n",
        "print(\"🤖 Chatbot is ready! Type 'exit' to stop.\\n\")\n",
        "\n",
        "chat_history_ids = None\n",
        "step = 0\n",
        "\n",
        "def main():\n",
        "    global chat_history_ids, step\n",
        "    while True:\n",
        "        user_input = input(\"You: \")\n",
        "        if user_input.lower() in ['exit', 'quit']:\n",
        "            print(\"👋 Goodbye!\")\n",
        "            break\n",
        "\n",
        "        # Encode the user input and append to chat history\n",
        "        new_input_ids = tokenizer.encode(user_input + tokenizer.eos_token, return_tensors='pt')\n",
        "\n",
        "        bot_input_ids = torch.cat([chat_history_ids, new_input_ids], dim=-1) if step > 0 else new_input_ids\n",
        "\n",
        "        # Generate a response\n",
        "        chat_history_ids = model.generate(\n",
        "            bot_input_ids,\n",
        "            max_length=1000,\n",
        "            pad_token_id=tokenizer.eos_token_id\n",
        "        )\n",
        "\n",
        "        # Decode and print\n",
        "        bot_response = tokenizer.decode(chat_history_ids[:, bot_input_ids.shape[-1]:][0], skip_special_tokens=True)\n",
        "        print(\"Bot:\", bot_response)\n",
        "        step += 1\n",
        "\n",
        "if __name__ == \"__main__\":\n",
        "    main()\n"
      ],
      "metadata": {
        "colab": {
          "base_uri": "https://localhost:8080/"
        },
        "id": "oo11zHotVzRq",
        "outputId": "2e36eee3-b59b-48d0-d3b2-d450eeaee7ed"
      },
      "execution_count": 2,
      "outputs": [
        {
          "output_type": "stream",
          "name": "stdout",
          "text": [
            "🔄 Loading model... Please wait.\n",
            "🤖 Chatbot is ready! Type 'exit' to stop.\n",
            "\n",
            "You: hello\n",
            "Bot: Hello! :D\n",
            "You: how are you?\n",
            "Bot: I'm good, how are you?\n",
            "You: fine ok bye\n",
            "Bot: Goodbye! :D\n",
            "You: exit\n",
            "👋 Goodbye!\n"
          ]
        }
      ]
    }
  ]
}