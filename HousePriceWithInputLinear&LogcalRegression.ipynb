{
  "nbformat": 4,
  "nbformat_minor": 0,
  "metadata": {
    "colab": {
      "provenance": []
    },
    "kernelspec": {
      "name": "python3",
      "display_name": "Python 3"
    },
    "language_info": {
      "name": "python"
    }
  },
  "cells": [
    {
      "cell_type": "markdown",
      "source": [
        "Linear Regression with input\n"
      ],
      "metadata": {
        "id": "VmfyhjTlS7pJ"
      }
    },
    {
      "cell_type": "code",
      "execution_count": null,
      "metadata": {
        "colab": {
          "base_uri": "https://localhost:8080/"
        },
        "id": "wIoty3sY4qOf",
        "outputId": "945f8224-9aa3-4499-9e4e-d755f63b80a0"
      },
      "outputs": [
        {
          "output_type": "stream",
          "name": "stdout",
          "text": [
            "Dataset:\n",
            "    Size   Price\n",
            "0  1500  245000\n",
            "1  1800  312000\n",
            "2  2400  369000\n",
            "3  3000  450000\n",
            "4  3500  525000\n",
            "5  4000  560000\n",
            "6  4500  610000\n",
            "7  5000  650000\n",
            "8  5500  720000\n",
            "9  6000  800000\n",
            "\n",
            "Mean Squared Error: 215176166.53372794\n",
            "R-squared: 0.9948294846565329\n",
            "\n",
            "Enter the size of the house (in sqft): 1500\n",
            "\n",
            "The predicted price of a house with size 1500.0 sqft is: $261,655.80\n"
          ]
        },
        {
          "output_type": "stream",
          "name": "stderr",
          "text": [
            "/usr/local/lib/python3.11/dist-packages/sklearn/utils/validation.py:2739: UserWarning: X does not have valid feature names, but LinearRegression was fitted with feature names\n",
            "  warnings.warn(\n"
          ]
        }
      ],
      "source": [
        "\n",
        "# Import necessary libraries\n",
        "import numpy as np\n",
        "import pandas as pd\n",
        "from sklearn.model_selection import train_test_split\n",
        "from sklearn.linear_model import LinearRegression\n",
        "from sklearn.metrics import mean_squared_error, r2_score\n",
        "\n",
        "# Create a simple dataset with house sizes (in sqft) and prices (in $1000s)\n",
        "data = {\n",
        "    'Size': [1500, 1800, 2400, 3000, 3500, 4000, 4500, 5000, 5500, 6000],\n",
        "    'Price': [245000, 312000, 369000, 450000, 525000, 560000, 610000, 650000, 720000, 800000]\n",
        "}\n",
        "\n",
        "# Create a DataFrame from the data\n",
        "df = pd.DataFrame(data)\n",
        "\n",
        "# Display the DataFrame\n",
        "print(\"Dataset:\\n\", df)\n",
        "\n",
        "# Separate features (X) and target variable (y)\n",
        "X = df[['Size']]  # Feature: Size of the house\n",
        "y = df['Price']   # Target: House price\n",
        "\n",
        "# Split the data into training and testing sets (80% training, 20% testing)\n",
        "X_train, X_test, y_train, y_test = train_test_split(X, y, test_size=0.2, random_state=42)\n",
        "\n",
        "# Initialize the Linear Regression model\n",
        "model = LinearRegression()\n",
        "\n",
        "# Train the model on the training data\n",
        "model.fit(X_train, y_train)\n",
        "\n",
        "# Calculate Mean Squared Error and R-squared (optional, for evaluation)\n",
        "y_pred = model.predict(X_test)\n",
        "mse = mean_squared_error(y_test, y_pred)\n",
        "r2 = r2_score(y_test, y_pred)\n",
        "\n",
        "# Print the evaluation metrics\n",
        "print(f\"\\nMean Squared Error: {mse}\")\n",
        "print(f\"R-squared: {r2}\")\n",
        "\n",
        "# Now, take input from the user\n",
        "size_input = float(input(\"\\nEnter the size of the house (in sqft): \"))\n",
        "\n",
        "# Predict the house price using the trained model\n",
        "predicted_price = model.predict([[size_input]])\n",
        "\n",
        "# Display the predicted price\n",
        "print(f\"\\nThe predicted price of a house with size {size_input} sqft is: ${predicted_price[0]:,.2f}\")\n"
      ]
    },
    {
      "cell_type": "markdown",
      "source": [],
      "metadata": {
        "id": "scBk3w5m_Qmo"
      }
    },
    {
      "cell_type": "markdown",
      "source": [
        "House Price Prediction with Logistic Regression\n"
      ],
      "metadata": {
        "id": "uRdjfK81_bKL"
      }
    },
    {
      "cell_type": "code",
      "source": [
        "# Step 1: Install the required libraries (if using Google Colab, run this in a separate cell)\n",
        "# !pip install pandas numpy scikit-learn\n",
        "\n",
        "# Step 2: Import necessary libraries\n",
        "import pandas as pd\n",
        "import numpy as np\n",
        "from sklearn.model_selection import train_test_split\n",
        "from sklearn.linear_model import LogisticRegression\n",
        "from sklearn.metrics import accuracy_score\n",
        "\n",
        "# Step 3: Create a simple dataset with house features (for example, area and number of rooms)\n",
        "# In a real-world scenario, replace this with actual data\n",
        "\n",
        "data = {\n",
        "    'Area (sq ft)': [1500, 1800, 1200, 2000, 2400, 1600, 2200, 2500, 1700, 1900],  # Area of the house\n",
        "    'Rooms': [3, 4, 2, 4, 5, 3, 4, 5, 3, 4],  # Number of rooms\n",
        "    'Price Category': ['Cheap', 'Expensive', 'Cheap', 'Expensive', 'Expensive', 'Cheap', 'Expensive', 'Expensive', 'Cheap', 'Expensive']  # Expensive or Cheap\n",
        "}\n",
        "\n",
        "# Create a DataFrame\n",
        "df = pd.DataFrame(data)\n",
        "\n",
        "# Step 4: Convert the target (Price Category) to a binary variable\n",
        "# Expensive = 1, Cheap = 0\n",
        "df['Price Category'] = df['Price Category'].map({'Cheap': 0, 'Expensive': 1})\n",
        "\n",
        "# Step 5: Prepare the data for training\n",
        "X = df[['Area (sq ft)', 'Rooms']]  # Features (Area and Rooms)\n",
        "y = df['Price Category']  # Target (Price Category)\n",
        "\n",
        "# Step 6: Split the data into training and testing sets (80% training, 20% testing)\n",
        "X_train, X_test, y_train, y_test = train_test_split(X, y, test_size=0.2, random_state=42)\n",
        "\n",
        "# Step 7: Train the Logistic Regression model\n",
        "model = LogisticRegression()\n",
        "model.fit(X_train, y_train)\n",
        "\n",
        "# Step 8: Evaluate the model (optional)\n",
        "y_pred = model.predict(X_test)\n",
        "accuracy = accuracy_score(y_test, y_pred)\n",
        "\n",
        "print(f\"Model Accuracy: {accuracy * 100:.2f}%\")\n",
        "\n",
        "# Step 9: Get user input for prediction\n",
        "print(\"\\nEnter the house details to predict if it's Expensive or Cheap:\")\n",
        "\n",
        "# Take user input for the area and number of rooms\n",
        "area = float(input(\"Enter the area of the house in square feet: \"))\n",
        "rooms = int(input(\"Enter the number of rooms in the house: \"))\n",
        "\n",
        "# Create the input array for prediction\n",
        "user_input = np.array([[area, rooms]])\n",
        "\n",
        "# Step 10: Predict using the trained model\n",
        "prediction = model.predict(user_input)\n",
        "\n",
        "# Output the result\n",
        "if prediction[0] == 1:\n",
        "    print(f\"\\nThe house is predicted to be 'Expensive'.\")\n",
        "else:\n",
        "    print(f\"\\nThe house is predicted to be 'Cheap'.\")\n"
      ],
      "metadata": {
        "id": "o7RYk_A2_lsd",
        "outputId": "c6355511-3e95-4f20-8b2d-3014af8a446f",
        "colab": {
          "base_uri": "https://localhost:8080/"
        }
      },
      "execution_count": null,
      "outputs": [
        {
          "output_type": "stream",
          "name": "stdout",
          "text": [
            "Model Accuracy: 100.00%\n",
            "\n",
            "Enter the house details to predict if it's Expensive or Cheap:\n",
            "Enter the area of the house in square feet: 5000\n",
            "Enter the number of rooms in the house: 5\n",
            "\n",
            "The house is predicted to be 'Expensive'.\n"
          ]
        },
        {
          "output_type": "stream",
          "name": "stderr",
          "text": [
            "/usr/local/lib/python3.11/dist-packages/sklearn/utils/validation.py:2739: UserWarning: X does not have valid feature names, but LogisticRegression was fitted with feature names\n",
            "  warnings.warn(\n"
          ]
        }
      ]
    }
  ]
}